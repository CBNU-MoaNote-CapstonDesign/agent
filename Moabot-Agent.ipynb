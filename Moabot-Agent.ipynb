{
 "cells": [
  {
   "cell_type": "code",
   "id": "initial_id",
   "metadata": {
    "collapsed": true,
    "ExecuteTime": {
     "end_time": "2025-05-02T20:33:02.049048Z",
     "start_time": "2025-05-02T20:33:02.041910Z"
    }
   },
   "source": [
    "from fastapi import FastAPI, Request, Response\n",
    "from pydantic import BaseModel\n",
    "import httpx\n",
    "import asyncio\n",
    "\n",
    "app = FastAPI()"
   ],
   "outputs": [],
   "execution_count": 2
  },
  {
   "metadata": {
    "ExecuteTime": {
     "end_time": "2025-05-02T20:51:04.536629Z",
     "start_time": "2025-05-02T20:51:04.527666Z"
    }
   },
   "cell_type": "code",
   "source": [
    "async def buildBotMessage(chatId, content):\n",
    "    \"\"\"\n",
    "    채팅에 봇 메시지를 만드는 함수\n",
    "    :param chatId: 채팅방 UUID\n",
    "    :param content: 콘텐츠\n",
    "    :return:\n",
    "    \"\"\"\n",
    "    async with httpx.AsyncClient() as client:\n",
    "        try:\n",
    "            url = f\"https://localhost:8080/agent/chat/{chatId}\"\n",
    "\n",
    "            response = await client.post(url, json={\"content\": content})\n",
    "\n",
    "            if response.status_code != 200:\n",
    "                print(\"Build Bot Message Fail\")\n",
    "\n",
    "            body = response.json()\n",
    "            return body.get(\"messageId\")\n",
    "        except Exception as e:\n",
    "            print(\"Build Bot Message Fail\",e)\n",
    "            return None"
   ],
   "id": "ce341955616d29aa",
   "outputs": [],
   "execution_count": 12
  },
  {
   "metadata": {},
   "cell_type": "code",
   "outputs": [],
   "execution_count": null,
   "source": [
    "async def updateBotMessage(messageId, content):\n",
    "    \"\"\"\n",
    "    봇이 보낸 채팅 메시지를 업데이트하는 함수\n",
    "    :param messageId: 메시지 id\n",
    "    :param content: 업데이트 된 메시지\n",
    "    :return:\n",
    "    \"\"\"\n",
    "    async with httpx.AsyncClient() as client:\n",
    "        try:\n",
    "            url = f\"https://localhost:8080/agent/chat/edit/{messageId}\"\n",
    "\n",
    "            response = await client.post(url, json={\"content\": content})\n",
    "\n",
    "            if response.status_code != 200:\n",
    "                print(\"Build Bot Message Fail\")\n",
    "\n",
    "            return True\n",
    "        except Exception as e:\n",
    "            print(\"Build Bot Message Fail\",e)\n",
    "            return False"
   ],
   "id": "27973953957c5d2b"
  },
  {
   "metadata": {
    "ExecuteTime": {
     "end_time": "2025-05-02T20:33:12.459943Z",
     "start_time": "2025-05-02T20:33:12.445643Z"
    }
   },
   "cell_type": "code",
   "source": [
    "class RequestPayload(BaseModel):\n",
    "    chatId: str\n",
    "    content: str\n",
    "\n",
    "@app.post(\"/request\")\n",
    "async def handle_request(payload: RequestPayload):\n",
    "    messageId = await buildBotMessage(chatId=payload.chatid, content=payload.content)\n",
    "    asyncio.run(updateBotMessage(messageId, payload.content))\n",
    "\n",
    "    return Response(status_code=200)"
   ],
   "id": "16d426b9675b8459",
   "outputs": [],
   "execution_count": 4
  }
 ],
 "metadata": {
  "kernelspec": {
   "display_name": "Python 3",
   "language": "python",
   "name": "python3"
  },
  "language_info": {
   "codemirror_mode": {
    "name": "ipython",
    "version": 2
   },
   "file_extension": ".py",
   "mimetype": "text/x-python",
   "name": "python",
   "nbconvert_exporter": "python",
   "pygments_lexer": "ipython2",
   "version": "2.7.6"
  }
 },
 "nbformat": 4,
 "nbformat_minor": 5
}
